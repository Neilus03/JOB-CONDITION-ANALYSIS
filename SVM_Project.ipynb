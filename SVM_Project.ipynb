{
  "nbformat": 4,
  "nbformat_minor": 0,
  "metadata": {
    "colab": {
      "provenance": []
    },
    "kernelspec": {
      "name": "python3",
      "display_name": "Python 3"
    },
    "language_info": {
      "name": "python"
    }
  },
  "cells": [
    {
      "cell_type": "markdown",
      "source": [
        "#**SUPPORT VECTOR MACHINE: Attrition prediction model**"
      ],
      "metadata": {
        "id": "F0RTe5Ez6s3X"
      }
    },
    {
      "cell_type": "markdown",
      "source": [
        "### **Data preprocessing**"
      ],
      "metadata": {
        "id": "6hFs3pIxMXCq"
      }
    },
    {
      "cell_type": "code",
      "execution_count": null,
      "metadata": {
        "id": "QzmbAKMaq9_A"
      },
      "outputs": [],
      "source": [
        "import pandas as pd\n",
        "import numpy as np\n",
        "import seaborn as sns"
      ]
    },
    {
      "cell_type": "code",
      "source": [
        "data = input(\"enter the route of the data (Attrition.csv)\")\n",
        "df = pd.read_csv(data)"
      ],
      "metadata": {
        "id": "SnJQsdNwubOp",
        "colab": {
          "base_uri": "https://localhost:8080/"
        },
        "outputId": "0d371f93-dabb-4d7a-8aef-16eb8fc7d933"
      },
      "execution_count": null,
      "outputs": [
        {
          "name": "stdout",
          "output_type": "stream",
          "text": [
            "enter the route of the data (Attrition.csv)/content/Attrition (3).csv\n"
          ]
        }
      ]
    },
    {
      "cell_type": "markdown",
      "source": [
        "We'll drop the unnamed feature because it just replicates the index."
      ],
      "metadata": {
        "id": "aTZUf6GshBEY"
      }
    },
    {
      "cell_type": "code",
      "source": [
        "df = df.drop([\"Unnamed: 0\"], axis = 1)\n"
      ],
      "metadata": {
        "id": "Wd_Dl722ut-T"
      },
      "execution_count": null,
      "outputs": []
    },
    {
      "cell_type": "code",
      "source": [
        "df.head()"
      ],
      "metadata": {
        "colab": {
          "base_uri": "https://localhost:8080/",
          "height": 300
        },
        "id": "nYhpYcACvpBU",
        "outputId": "d05811f7-0f14-4ed5-cb20-5bcbf5d64d71"
      },
      "execution_count": null,
      "outputs": [
        {
          "output_type": "execute_result",
          "data": {
            "text/plain": [
              "   Age  Attrition  BusinessTravel  DailyRate  Department  DistanceFromHome  \\\n",
              "0   41          1               1       1102           2                 1   \n",
              "1   49          0               2        279           1                 8   \n",
              "2   37          1               1       1373           1                 2   \n",
              "3   33          0               2       1392           1                 3   \n",
              "4   27          0               1        591           1                 2   \n",
              "\n",
              "   Education  EducationField  EnvironmentSatisfaction  Gender  ...  \\\n",
              "0          2               1                        2       0  ...   \n",
              "1          1               1                        3       1  ...   \n",
              "2          2               4                        4       1  ...   \n",
              "3          4               1                        4       0  ...   \n",
              "4          1               3                        1       1  ...   \n",
              "\n",
              "   PerformanceRating  RelationshipSatisfaction  StockOptionLevel  \\\n",
              "0                  3                         1                 0   \n",
              "1                  4                         4                 1   \n",
              "2                  3                         2                 0   \n",
              "3                  3                         3                 0   \n",
              "4                  3                         4                 1   \n",
              "\n",
              "   TotalWorkingYears  TrainingTimesLastYear  WorkLifeBalance  YearsAtCompany  \\\n",
              "0                  8                      0                1               6   \n",
              "1                 10                      3                3              10   \n",
              "2                  7                      3                3               0   \n",
              "3                  8                      3                3               8   \n",
              "4                  6                      3                3               2   \n",
              "\n",
              "   YearsInCurrentRole  YearsSinceLastPromotion  YearsWithCurrManager  \n",
              "0                   4                        0                     5  \n",
              "1                   7                        1                     7  \n",
              "2                   0                        0                     0  \n",
              "3                   7                        3                     0  \n",
              "4                   2                        2                     2  \n",
              "\n",
              "[5 rows x 31 columns]"
            ],
            "text/html": [
              "\n",
              "  <div id=\"df-2c24f48d-504a-463b-9892-1d3b038f5e57\">\n",
              "    <div class=\"colab-df-container\">\n",
              "      <div>\n",
              "<style scoped>\n",
              "    .dataframe tbody tr th:only-of-type {\n",
              "        vertical-align: middle;\n",
              "    }\n",
              "\n",
              "    .dataframe tbody tr th {\n",
              "        vertical-align: top;\n",
              "    }\n",
              "\n",
              "    .dataframe thead th {\n",
              "        text-align: right;\n",
              "    }\n",
              "</style>\n",
              "<table border=\"1\" class=\"dataframe\">\n",
              "  <thead>\n",
              "    <tr style=\"text-align: right;\">\n",
              "      <th></th>\n",
              "      <th>Age</th>\n",
              "      <th>Attrition</th>\n",
              "      <th>BusinessTravel</th>\n",
              "      <th>DailyRate</th>\n",
              "      <th>Department</th>\n",
              "      <th>DistanceFromHome</th>\n",
              "      <th>Education</th>\n",
              "      <th>EducationField</th>\n",
              "      <th>EnvironmentSatisfaction</th>\n",
              "      <th>Gender</th>\n",
              "      <th>...</th>\n",
              "      <th>PerformanceRating</th>\n",
              "      <th>RelationshipSatisfaction</th>\n",
              "      <th>StockOptionLevel</th>\n",
              "      <th>TotalWorkingYears</th>\n",
              "      <th>TrainingTimesLastYear</th>\n",
              "      <th>WorkLifeBalance</th>\n",
              "      <th>YearsAtCompany</th>\n",
              "      <th>YearsInCurrentRole</th>\n",
              "      <th>YearsSinceLastPromotion</th>\n",
              "      <th>YearsWithCurrManager</th>\n",
              "    </tr>\n",
              "  </thead>\n",
              "  <tbody>\n",
              "    <tr>\n",
              "      <th>0</th>\n",
              "      <td>41</td>\n",
              "      <td>1</td>\n",
              "      <td>1</td>\n",
              "      <td>1102</td>\n",
              "      <td>2</td>\n",
              "      <td>1</td>\n",
              "      <td>2</td>\n",
              "      <td>1</td>\n",
              "      <td>2</td>\n",
              "      <td>0</td>\n",
              "      <td>...</td>\n",
              "      <td>3</td>\n",
              "      <td>1</td>\n",
              "      <td>0</td>\n",
              "      <td>8</td>\n",
              "      <td>0</td>\n",
              "      <td>1</td>\n",
              "      <td>6</td>\n",
              "      <td>4</td>\n",
              "      <td>0</td>\n",
              "      <td>5</td>\n",
              "    </tr>\n",
              "    <tr>\n",
              "      <th>1</th>\n",
              "      <td>49</td>\n",
              "      <td>0</td>\n",
              "      <td>2</td>\n",
              "      <td>279</td>\n",
              "      <td>1</td>\n",
              "      <td>8</td>\n",
              "      <td>1</td>\n",
              "      <td>1</td>\n",
              "      <td>3</td>\n",
              "      <td>1</td>\n",
              "      <td>...</td>\n",
              "      <td>4</td>\n",
              "      <td>4</td>\n",
              "      <td>1</td>\n",
              "      <td>10</td>\n",
              "      <td>3</td>\n",
              "      <td>3</td>\n",
              "      <td>10</td>\n",
              "      <td>7</td>\n",
              "      <td>1</td>\n",
              "      <td>7</td>\n",
              "    </tr>\n",
              "    <tr>\n",
              "      <th>2</th>\n",
              "      <td>37</td>\n",
              "      <td>1</td>\n",
              "      <td>1</td>\n",
              "      <td>1373</td>\n",
              "      <td>1</td>\n",
              "      <td>2</td>\n",
              "      <td>2</td>\n",
              "      <td>4</td>\n",
              "      <td>4</td>\n",
              "      <td>1</td>\n",
              "      <td>...</td>\n",
              "      <td>3</td>\n",
              "      <td>2</td>\n",
              "      <td>0</td>\n",
              "      <td>7</td>\n",
              "      <td>3</td>\n",
              "      <td>3</td>\n",
              "      <td>0</td>\n",
              "      <td>0</td>\n",
              "      <td>0</td>\n",
              "      <td>0</td>\n",
              "    </tr>\n",
              "    <tr>\n",
              "      <th>3</th>\n",
              "      <td>33</td>\n",
              "      <td>0</td>\n",
              "      <td>2</td>\n",
              "      <td>1392</td>\n",
              "      <td>1</td>\n",
              "      <td>3</td>\n",
              "      <td>4</td>\n",
              "      <td>1</td>\n",
              "      <td>4</td>\n",
              "      <td>0</td>\n",
              "      <td>...</td>\n",
              "      <td>3</td>\n",
              "      <td>3</td>\n",
              "      <td>0</td>\n",
              "      <td>8</td>\n",
              "      <td>3</td>\n",
              "      <td>3</td>\n",
              "      <td>8</td>\n",
              "      <td>7</td>\n",
              "      <td>3</td>\n",
              "      <td>0</td>\n",
              "    </tr>\n",
              "    <tr>\n",
              "      <th>4</th>\n",
              "      <td>27</td>\n",
              "      <td>0</td>\n",
              "      <td>1</td>\n",
              "      <td>591</td>\n",
              "      <td>1</td>\n",
              "      <td>2</td>\n",
              "      <td>1</td>\n",
              "      <td>3</td>\n",
              "      <td>1</td>\n",
              "      <td>1</td>\n",
              "      <td>...</td>\n",
              "      <td>3</td>\n",
              "      <td>4</td>\n",
              "      <td>1</td>\n",
              "      <td>6</td>\n",
              "      <td>3</td>\n",
              "      <td>3</td>\n",
              "      <td>2</td>\n",
              "      <td>2</td>\n",
              "      <td>2</td>\n",
              "      <td>2</td>\n",
              "    </tr>\n",
              "  </tbody>\n",
              "</table>\n",
              "<p>5 rows × 31 columns</p>\n",
              "</div>\n",
              "      <button class=\"colab-df-convert\" onclick=\"convertToInteractive('df-2c24f48d-504a-463b-9892-1d3b038f5e57')\"\n",
              "              title=\"Convert this dataframe to an interactive table.\"\n",
              "              style=\"display:none;\">\n",
              "        \n",
              "  <svg xmlns=\"http://www.w3.org/2000/svg\" height=\"24px\"viewBox=\"0 0 24 24\"\n",
              "       width=\"24px\">\n",
              "    <path d=\"M0 0h24v24H0V0z\" fill=\"none\"/>\n",
              "    <path d=\"M18.56 5.44l.94 2.06.94-2.06 2.06-.94-2.06-.94-.94-2.06-.94 2.06-2.06.94zm-11 1L8.5 8.5l.94-2.06 2.06-.94-2.06-.94L8.5 2.5l-.94 2.06-2.06.94zm10 10l.94 2.06.94-2.06 2.06-.94-2.06-.94-.94-2.06-.94 2.06-2.06.94z\"/><path d=\"M17.41 7.96l-1.37-1.37c-.4-.4-.92-.59-1.43-.59-.52 0-1.04.2-1.43.59L10.3 9.45l-7.72 7.72c-.78.78-.78 2.05 0 2.83L4 21.41c.39.39.9.59 1.41.59.51 0 1.02-.2 1.41-.59l7.78-7.78 2.81-2.81c.8-.78.8-2.07 0-2.86zM5.41 20L4 18.59l7.72-7.72 1.47 1.35L5.41 20z\"/>\n",
              "  </svg>\n",
              "      </button>\n",
              "      \n",
              "  <style>\n",
              "    .colab-df-container {\n",
              "      display:flex;\n",
              "      flex-wrap:wrap;\n",
              "      gap: 12px;\n",
              "    }\n",
              "\n",
              "    .colab-df-convert {\n",
              "      background-color: #E8F0FE;\n",
              "      border: none;\n",
              "      border-radius: 50%;\n",
              "      cursor: pointer;\n",
              "      display: none;\n",
              "      fill: #1967D2;\n",
              "      height: 32px;\n",
              "      padding: 0 0 0 0;\n",
              "      width: 32px;\n",
              "    }\n",
              "\n",
              "    .colab-df-convert:hover {\n",
              "      background-color: #E2EBFA;\n",
              "      box-shadow: 0px 1px 2px rgba(60, 64, 67, 0.3), 0px 1px 3px 1px rgba(60, 64, 67, 0.15);\n",
              "      fill: #174EA6;\n",
              "    }\n",
              "\n",
              "    [theme=dark] .colab-df-convert {\n",
              "      background-color: #3B4455;\n",
              "      fill: #D2E3FC;\n",
              "    }\n",
              "\n",
              "    [theme=dark] .colab-df-convert:hover {\n",
              "      background-color: #434B5C;\n",
              "      box-shadow: 0px 1px 3px 1px rgba(0, 0, 0, 0.15);\n",
              "      filter: drop-shadow(0px 1px 2px rgba(0, 0, 0, 0.3));\n",
              "      fill: #FFFFFF;\n",
              "    }\n",
              "  </style>\n",
              "\n",
              "      <script>\n",
              "        const buttonEl =\n",
              "          document.querySelector('#df-2c24f48d-504a-463b-9892-1d3b038f5e57 button.colab-df-convert');\n",
              "        buttonEl.style.display =\n",
              "          google.colab.kernel.accessAllowed ? 'block' : 'none';\n",
              "\n",
              "        async function convertToInteractive(key) {\n",
              "          const element = document.querySelector('#df-2c24f48d-504a-463b-9892-1d3b038f5e57');\n",
              "          const dataTable =\n",
              "            await google.colab.kernel.invokeFunction('convertToInteractive',\n",
              "                                                     [key], {});\n",
              "          if (!dataTable) return;\n",
              "\n",
              "          const docLinkHtml = 'Like what you see? Visit the ' +\n",
              "            '<a target=\"_blank\" href=https://colab.research.google.com/notebooks/data_table.ipynb>data table notebook</a>'\n",
              "            + ' to learn more about interactive tables.';\n",
              "          element.innerHTML = '';\n",
              "          dataTable['output_type'] = 'display_data';\n",
              "          await google.colab.output.renderOutput(dataTable, element);\n",
              "          const docLink = document.createElement('div');\n",
              "          docLink.innerHTML = docLinkHtml;\n",
              "          element.appendChild(docLink);\n",
              "        }\n",
              "      </script>\n",
              "    </div>\n",
              "  </div>\n",
              "  "
            ]
          },
          "metadata": {},
          "execution_count": 62
        }
      ]
    },
    {
      "cell_type": "markdown",
      "source": [
        "Let's understand our data with some descriptive statistic"
      ],
      "metadata": {
        "id": "AnLH72ccMfAK"
      }
    },
    {
      "cell_type": "code",
      "source": [
        "df.describe()"
      ],
      "metadata": {
        "colab": {
          "base_uri": "https://localhost:8080/",
          "height": 394
        },
        "id": "u3idONpauvqn",
        "outputId": "26192018-1a5a-4664-9413-55d616671164"
      },
      "execution_count": null,
      "outputs": [
        {
          "output_type": "execute_result",
          "data": {
            "text/plain": [
              "               Age    Attrition  BusinessTravel    DailyRate   Department  \\\n",
              "count  1470.000000  1470.000000     1470.000000  1470.000000  1470.000000   \n",
              "mean     36.923810     0.161224        1.086395   802.485714     1.260544   \n",
              "std       9.135373     0.367863        0.532170   403.509100     0.527792   \n",
              "min      18.000000     0.000000        0.000000   102.000000     0.000000   \n",
              "25%      30.000000     0.000000        1.000000   465.000000     1.000000   \n",
              "50%      36.000000     0.000000        1.000000   802.000000     1.000000   \n",
              "75%      43.000000     0.000000        1.000000  1157.000000     2.000000   \n",
              "max      60.000000     1.000000        2.000000  1499.000000     2.000000   \n",
              "\n",
              "       DistanceFromHome    Education  EducationField  EnvironmentSatisfaction  \\\n",
              "count       1470.000000  1470.000000     1470.000000              1470.000000   \n",
              "mean           9.192517     2.912925        2.247619                 2.721769   \n",
              "std            8.106864     1.024165        1.331369                 1.093082   \n",
              "min            1.000000     1.000000        0.000000                 1.000000   \n",
              "25%            2.000000     2.000000        1.000000                 2.000000   \n",
              "50%            7.000000     3.000000        2.000000                 3.000000   \n",
              "75%           14.000000     4.000000        3.000000                 4.000000   \n",
              "max           29.000000     5.000000        5.000000                 4.000000   \n",
              "\n",
              "            Gender  ...  PerformanceRating  RelationshipSatisfaction  \\\n",
              "count  1470.000000  ...        1470.000000               1470.000000   \n",
              "mean      0.600000  ...           3.153741                  2.712245   \n",
              "std       0.490065  ...           0.360824                  1.081209   \n",
              "min       0.000000  ...           3.000000                  1.000000   \n",
              "25%       0.000000  ...           3.000000                  2.000000   \n",
              "50%       1.000000  ...           3.000000                  3.000000   \n",
              "75%       1.000000  ...           3.000000                  4.000000   \n",
              "max       1.000000  ...           4.000000                  4.000000   \n",
              "\n",
              "       StockOptionLevel  TotalWorkingYears  TrainingTimesLastYear  \\\n",
              "count       1470.000000        1470.000000            1470.000000   \n",
              "mean           0.793878          11.279592               2.799320   \n",
              "std            0.852077           7.780782               1.289271   \n",
              "min            0.000000           0.000000               0.000000   \n",
              "25%            0.000000           6.000000               2.000000   \n",
              "50%            1.000000          10.000000               3.000000   \n",
              "75%            1.000000          15.000000               3.000000   \n",
              "max            3.000000          40.000000               6.000000   \n",
              "\n",
              "       WorkLifeBalance  YearsAtCompany  YearsInCurrentRole  \\\n",
              "count      1470.000000     1470.000000         1470.000000   \n",
              "mean          2.761224        7.008163            4.229252   \n",
              "std           0.706476        6.126525            3.623137   \n",
              "min           1.000000        0.000000            0.000000   \n",
              "25%           2.000000        3.000000            2.000000   \n",
              "50%           3.000000        5.000000            3.000000   \n",
              "75%           3.000000        9.000000            7.000000   \n",
              "max           4.000000       40.000000           18.000000   \n",
              "\n",
              "       YearsSinceLastPromotion  YearsWithCurrManager  \n",
              "count              1470.000000           1470.000000  \n",
              "mean                  2.187755              4.123129  \n",
              "std                   3.222430              3.568136  \n",
              "min                   0.000000              0.000000  \n",
              "25%                   0.000000              2.000000  \n",
              "50%                   1.000000              3.000000  \n",
              "75%                   3.000000              7.000000  \n",
              "max                  15.000000             17.000000  \n",
              "\n",
              "[8 rows x 31 columns]"
            ],
            "text/html": [
              "\n",
              "  <div id=\"df-855511b1-2f74-41ae-99d6-a5fffed9566a\">\n",
              "    <div class=\"colab-df-container\">\n",
              "      <div>\n",
              "<style scoped>\n",
              "    .dataframe tbody tr th:only-of-type {\n",
              "        vertical-align: middle;\n",
              "    }\n",
              "\n",
              "    .dataframe tbody tr th {\n",
              "        vertical-align: top;\n",
              "    }\n",
              "\n",
              "    .dataframe thead th {\n",
              "        text-align: right;\n",
              "    }\n",
              "</style>\n",
              "<table border=\"1\" class=\"dataframe\">\n",
              "  <thead>\n",
              "    <tr style=\"text-align: right;\">\n",
              "      <th></th>\n",
              "      <th>Age</th>\n",
              "      <th>Attrition</th>\n",
              "      <th>BusinessTravel</th>\n",
              "      <th>DailyRate</th>\n",
              "      <th>Department</th>\n",
              "      <th>DistanceFromHome</th>\n",
              "      <th>Education</th>\n",
              "      <th>EducationField</th>\n",
              "      <th>EnvironmentSatisfaction</th>\n",
              "      <th>Gender</th>\n",
              "      <th>...</th>\n",
              "      <th>PerformanceRating</th>\n",
              "      <th>RelationshipSatisfaction</th>\n",
              "      <th>StockOptionLevel</th>\n",
              "      <th>TotalWorkingYears</th>\n",
              "      <th>TrainingTimesLastYear</th>\n",
              "      <th>WorkLifeBalance</th>\n",
              "      <th>YearsAtCompany</th>\n",
              "      <th>YearsInCurrentRole</th>\n",
              "      <th>YearsSinceLastPromotion</th>\n",
              "      <th>YearsWithCurrManager</th>\n",
              "    </tr>\n",
              "  </thead>\n",
              "  <tbody>\n",
              "    <tr>\n",
              "      <th>count</th>\n",
              "      <td>1470.000000</td>\n",
              "      <td>1470.000000</td>\n",
              "      <td>1470.000000</td>\n",
              "      <td>1470.000000</td>\n",
              "      <td>1470.000000</td>\n",
              "      <td>1470.000000</td>\n",
              "      <td>1470.000000</td>\n",
              "      <td>1470.000000</td>\n",
              "      <td>1470.000000</td>\n",
              "      <td>1470.000000</td>\n",
              "      <td>...</td>\n",
              "      <td>1470.000000</td>\n",
              "      <td>1470.000000</td>\n",
              "      <td>1470.000000</td>\n",
              "      <td>1470.000000</td>\n",
              "      <td>1470.000000</td>\n",
              "      <td>1470.000000</td>\n",
              "      <td>1470.000000</td>\n",
              "      <td>1470.000000</td>\n",
              "      <td>1470.000000</td>\n",
              "      <td>1470.000000</td>\n",
              "    </tr>\n",
              "    <tr>\n",
              "      <th>mean</th>\n",
              "      <td>36.923810</td>\n",
              "      <td>0.161224</td>\n",
              "      <td>1.086395</td>\n",
              "      <td>802.485714</td>\n",
              "      <td>1.260544</td>\n",
              "      <td>9.192517</td>\n",
              "      <td>2.912925</td>\n",
              "      <td>2.247619</td>\n",
              "      <td>2.721769</td>\n",
              "      <td>0.600000</td>\n",
              "      <td>...</td>\n",
              "      <td>3.153741</td>\n",
              "      <td>2.712245</td>\n",
              "      <td>0.793878</td>\n",
              "      <td>11.279592</td>\n",
              "      <td>2.799320</td>\n",
              "      <td>2.761224</td>\n",
              "      <td>7.008163</td>\n",
              "      <td>4.229252</td>\n",
              "      <td>2.187755</td>\n",
              "      <td>4.123129</td>\n",
              "    </tr>\n",
              "    <tr>\n",
              "      <th>std</th>\n",
              "      <td>9.135373</td>\n",
              "      <td>0.367863</td>\n",
              "      <td>0.532170</td>\n",
              "      <td>403.509100</td>\n",
              "      <td>0.527792</td>\n",
              "      <td>8.106864</td>\n",
              "      <td>1.024165</td>\n",
              "      <td>1.331369</td>\n",
              "      <td>1.093082</td>\n",
              "      <td>0.490065</td>\n",
              "      <td>...</td>\n",
              "      <td>0.360824</td>\n",
              "      <td>1.081209</td>\n",
              "      <td>0.852077</td>\n",
              "      <td>7.780782</td>\n",
              "      <td>1.289271</td>\n",
              "      <td>0.706476</td>\n",
              "      <td>6.126525</td>\n",
              "      <td>3.623137</td>\n",
              "      <td>3.222430</td>\n",
              "      <td>3.568136</td>\n",
              "    </tr>\n",
              "    <tr>\n",
              "      <th>min</th>\n",
              "      <td>18.000000</td>\n",
              "      <td>0.000000</td>\n",
              "      <td>0.000000</td>\n",
              "      <td>102.000000</td>\n",
              "      <td>0.000000</td>\n",
              "      <td>1.000000</td>\n",
              "      <td>1.000000</td>\n",
              "      <td>0.000000</td>\n",
              "      <td>1.000000</td>\n",
              "      <td>0.000000</td>\n",
              "      <td>...</td>\n",
              "      <td>3.000000</td>\n",
              "      <td>1.000000</td>\n",
              "      <td>0.000000</td>\n",
              "      <td>0.000000</td>\n",
              "      <td>0.000000</td>\n",
              "      <td>1.000000</td>\n",
              "      <td>0.000000</td>\n",
              "      <td>0.000000</td>\n",
              "      <td>0.000000</td>\n",
              "      <td>0.000000</td>\n",
              "    </tr>\n",
              "    <tr>\n",
              "      <th>25%</th>\n",
              "      <td>30.000000</td>\n",
              "      <td>0.000000</td>\n",
              "      <td>1.000000</td>\n",
              "      <td>465.000000</td>\n",
              "      <td>1.000000</td>\n",
              "      <td>2.000000</td>\n",
              "      <td>2.000000</td>\n",
              "      <td>1.000000</td>\n",
              "      <td>2.000000</td>\n",
              "      <td>0.000000</td>\n",
              "      <td>...</td>\n",
              "      <td>3.000000</td>\n",
              "      <td>2.000000</td>\n",
              "      <td>0.000000</td>\n",
              "      <td>6.000000</td>\n",
              "      <td>2.000000</td>\n",
              "      <td>2.000000</td>\n",
              "      <td>3.000000</td>\n",
              "      <td>2.000000</td>\n",
              "      <td>0.000000</td>\n",
              "      <td>2.000000</td>\n",
              "    </tr>\n",
              "    <tr>\n",
              "      <th>50%</th>\n",
              "      <td>36.000000</td>\n",
              "      <td>0.000000</td>\n",
              "      <td>1.000000</td>\n",
              "      <td>802.000000</td>\n",
              "      <td>1.000000</td>\n",
              "      <td>7.000000</td>\n",
              "      <td>3.000000</td>\n",
              "      <td>2.000000</td>\n",
              "      <td>3.000000</td>\n",
              "      <td>1.000000</td>\n",
              "      <td>...</td>\n",
              "      <td>3.000000</td>\n",
              "      <td>3.000000</td>\n",
              "      <td>1.000000</td>\n",
              "      <td>10.000000</td>\n",
              "      <td>3.000000</td>\n",
              "      <td>3.000000</td>\n",
              "      <td>5.000000</td>\n",
              "      <td>3.000000</td>\n",
              "      <td>1.000000</td>\n",
              "      <td>3.000000</td>\n",
              "    </tr>\n",
              "    <tr>\n",
              "      <th>75%</th>\n",
              "      <td>43.000000</td>\n",
              "      <td>0.000000</td>\n",
              "      <td>1.000000</td>\n",
              "      <td>1157.000000</td>\n",
              "      <td>2.000000</td>\n",
              "      <td>14.000000</td>\n",
              "      <td>4.000000</td>\n",
              "      <td>3.000000</td>\n",
              "      <td>4.000000</td>\n",
              "      <td>1.000000</td>\n",
              "      <td>...</td>\n",
              "      <td>3.000000</td>\n",
              "      <td>4.000000</td>\n",
              "      <td>1.000000</td>\n",
              "      <td>15.000000</td>\n",
              "      <td>3.000000</td>\n",
              "      <td>3.000000</td>\n",
              "      <td>9.000000</td>\n",
              "      <td>7.000000</td>\n",
              "      <td>3.000000</td>\n",
              "      <td>7.000000</td>\n",
              "    </tr>\n",
              "    <tr>\n",
              "      <th>max</th>\n",
              "      <td>60.000000</td>\n",
              "      <td>1.000000</td>\n",
              "      <td>2.000000</td>\n",
              "      <td>1499.000000</td>\n",
              "      <td>2.000000</td>\n",
              "      <td>29.000000</td>\n",
              "      <td>5.000000</td>\n",
              "      <td>5.000000</td>\n",
              "      <td>4.000000</td>\n",
              "      <td>1.000000</td>\n",
              "      <td>...</td>\n",
              "      <td>4.000000</td>\n",
              "      <td>4.000000</td>\n",
              "      <td>3.000000</td>\n",
              "      <td>40.000000</td>\n",
              "      <td>6.000000</td>\n",
              "      <td>4.000000</td>\n",
              "      <td>40.000000</td>\n",
              "      <td>18.000000</td>\n",
              "      <td>15.000000</td>\n",
              "      <td>17.000000</td>\n",
              "    </tr>\n",
              "  </tbody>\n",
              "</table>\n",
              "<p>8 rows × 31 columns</p>\n",
              "</div>\n",
              "      <button class=\"colab-df-convert\" onclick=\"convertToInteractive('df-855511b1-2f74-41ae-99d6-a5fffed9566a')\"\n",
              "              title=\"Convert this dataframe to an interactive table.\"\n",
              "              style=\"display:none;\">\n",
              "        \n",
              "  <svg xmlns=\"http://www.w3.org/2000/svg\" height=\"24px\"viewBox=\"0 0 24 24\"\n",
              "       width=\"24px\">\n",
              "    <path d=\"M0 0h24v24H0V0z\" fill=\"none\"/>\n",
              "    <path d=\"M18.56 5.44l.94 2.06.94-2.06 2.06-.94-2.06-.94-.94-2.06-.94 2.06-2.06.94zm-11 1L8.5 8.5l.94-2.06 2.06-.94-2.06-.94L8.5 2.5l-.94 2.06-2.06.94zm10 10l.94 2.06.94-2.06 2.06-.94-2.06-.94-.94-2.06-.94 2.06-2.06.94z\"/><path d=\"M17.41 7.96l-1.37-1.37c-.4-.4-.92-.59-1.43-.59-.52 0-1.04.2-1.43.59L10.3 9.45l-7.72 7.72c-.78.78-.78 2.05 0 2.83L4 21.41c.39.39.9.59 1.41.59.51 0 1.02-.2 1.41-.59l7.78-7.78 2.81-2.81c.8-.78.8-2.07 0-2.86zM5.41 20L4 18.59l7.72-7.72 1.47 1.35L5.41 20z\"/>\n",
              "  </svg>\n",
              "      </button>\n",
              "      \n",
              "  <style>\n",
              "    .colab-df-container {\n",
              "      display:flex;\n",
              "      flex-wrap:wrap;\n",
              "      gap: 12px;\n",
              "    }\n",
              "\n",
              "    .colab-df-convert {\n",
              "      background-color: #E8F0FE;\n",
              "      border: none;\n",
              "      border-radius: 50%;\n",
              "      cursor: pointer;\n",
              "      display: none;\n",
              "      fill: #1967D2;\n",
              "      height: 32px;\n",
              "      padding: 0 0 0 0;\n",
              "      width: 32px;\n",
              "    }\n",
              "\n",
              "    .colab-df-convert:hover {\n",
              "      background-color: #E2EBFA;\n",
              "      box-shadow: 0px 1px 2px rgba(60, 64, 67, 0.3), 0px 1px 3px 1px rgba(60, 64, 67, 0.15);\n",
              "      fill: #174EA6;\n",
              "    }\n",
              "\n",
              "    [theme=dark] .colab-df-convert {\n",
              "      background-color: #3B4455;\n",
              "      fill: #D2E3FC;\n",
              "    }\n",
              "\n",
              "    [theme=dark] .colab-df-convert:hover {\n",
              "      background-color: #434B5C;\n",
              "      box-shadow: 0px 1px 3px 1px rgba(0, 0, 0, 0.15);\n",
              "      filter: drop-shadow(0px 1px 2px rgba(0, 0, 0, 0.3));\n",
              "      fill: #FFFFFF;\n",
              "    }\n",
              "  </style>\n",
              "\n",
              "      <script>\n",
              "        const buttonEl =\n",
              "          document.querySelector('#df-855511b1-2f74-41ae-99d6-a5fffed9566a button.colab-df-convert');\n",
              "        buttonEl.style.display =\n",
              "          google.colab.kernel.accessAllowed ? 'block' : 'none';\n",
              "\n",
              "        async function convertToInteractive(key) {\n",
              "          const element = document.querySelector('#df-855511b1-2f74-41ae-99d6-a5fffed9566a');\n",
              "          const dataTable =\n",
              "            await google.colab.kernel.invokeFunction('convertToInteractive',\n",
              "                                                     [key], {});\n",
              "          if (!dataTable) return;\n",
              "\n",
              "          const docLinkHtml = 'Like what you see? Visit the ' +\n",
              "            '<a target=\"_blank\" href=https://colab.research.google.com/notebooks/data_table.ipynb>data table notebook</a>'\n",
              "            + ' to learn more about interactive tables.';\n",
              "          element.innerHTML = '';\n",
              "          dataTable['output_type'] = 'display_data';\n",
              "          await google.colab.output.renderOutput(dataTable, element);\n",
              "          const docLink = document.createElement('div');\n",
              "          docLink.innerHTML = docLinkHtml;\n",
              "          element.appendChild(docLink);\n",
              "        }\n",
              "      </script>\n",
              "    </div>\n",
              "  </div>\n",
              "  "
            ]
          },
          "metadata": {},
          "execution_count": 63
        }
      ]
    },
    {
      "cell_type": "markdown",
      "source": [
        "##**Why do we want to use SUPPORT VECTOR MACHINE?**\n",
        " \n",
        "\n",
        "\n"
      ],
      "metadata": {
        "id": "n_TIXcLEyEev"
      }
    },
    {
      "cell_type": "markdown",
      "source": [
        "We want to do a binary classification of the Attrition of workers in companies, we use SVM's because while other models, such as perceptron aren't able to generalize well enough, svm's find what is supposed to be the best dividing line for linear classification, the one in the middle, equidistant.\n",
        "\n",
        "We also decided to go for the SVM because it can be easily transformed to a non linear classifier. Thseon linear decision boundaries are found thanks to the Kernel trick.\n",
        "\n",
        "Extra reasons for choosing SVM are:\n",
        "\n",
        "\n",
        "1.   It does not get stuck in local optima, the solution is just one global optima.\n",
        "2.   There are not too many hyperparameters to use, this is nice because, as we will only have 2 hyperparmeters it will make our search space just square , not cube or so on. ([Course of dimensionality](https://towardsdatascience.com/curse-of-dimensionality-a-curse-to-machine-learning-c122ee33bfeb)). \n",
        "3.   SVM's are truly powerful, more than naive bayes, logistic regression, trees and etc.\n",
        "4.   Our dataset, is not too big, and this is good for SVM's because they will be able to scale, as they require the calculation of a kernel matrix, whis is a NxN matrix (where N is the number of samples), then the algorithm, as it reuires the kernel trick, will be at least of N², and in practice probably N³."
      ],
      "metadata": {
        "id": "Xn9qwHkfLu_k"
      }
    },
    {
      "cell_type": "markdown",
      "source": [
        "## **Set up**"
      ],
      "metadata": {
        "id": "lgPozfokMMQB"
      }
    },
    {
      "cell_type": "markdown",
      "source": [
        "Import some useful libraries"
      ],
      "metadata": {
        "id": "eA4jsMD-UApS"
      }
    },
    {
      "cell_type": "code",
      "source": [
        "import sklearn\n",
        "from sklearn import svm\n",
        "from sklearn.metrics import confusion_matrix, classification_report, accuracy_score\n",
        "from sklearn.preprocessing import StandardScaler, LabelEncoder\n",
        "from sklearn.model_selection import train_test_split\n",
        "from sklearn.model_selection import GridSearchCV"
      ],
      "metadata": {
        "id": "w36uIE71vr4r"
      },
      "execution_count": null,
      "outputs": []
    },
    {
      "cell_type": "markdown",
      "source": [
        "Transform the 1 to Yes and the 0 to No for the attrition column via list comprehension"
      ],
      "metadata": {
        "id": "2bQHk1dEUD-s"
      }
    },
    {
      "cell_type": "code",
      "source": [
        "df['Attrition'] = ['Yes' if A == 1 else 'No' for A in df['Attrition'] ]"
      ],
      "metadata": {
        "id": "bm1LScZ2vrz0"
      },
      "execution_count": null,
      "outputs": []
    },
    {
      "cell_type": "markdown",
      "source": [
        "We visualize our data now:"
      ],
      "metadata": {
        "id": "-dtnc89HUUbf"
      }
    },
    {
      "cell_type": "code",
      "source": [
        "df.head()"
      ],
      "metadata": {
        "colab": {
          "base_uri": "https://localhost:8080/",
          "height": 300
        },
        "id": "EgXKcyHo-or9",
        "outputId": "a52a1123-8b98-4fe3-c75f-d332551bad4c"
      },
      "execution_count": null,
      "outputs": [
        {
          "output_type": "execute_result",
          "data": {
            "text/plain": [
              "   Age Attrition  BusinessTravel  DailyRate  Department  DistanceFromHome  \\\n",
              "0   41       Yes               1       1102           2                 1   \n",
              "1   49        No               2        279           1                 8   \n",
              "2   37       Yes               1       1373           1                 2   \n",
              "3   33        No               2       1392           1                 3   \n",
              "4   27        No               1        591           1                 2   \n",
              "\n",
              "   Education  EducationField  EnvironmentSatisfaction  Gender  ...  \\\n",
              "0          2               1                        2       0  ...   \n",
              "1          1               1                        3       1  ...   \n",
              "2          2               4                        4       1  ...   \n",
              "3          4               1                        4       0  ...   \n",
              "4          1               3                        1       1  ...   \n",
              "\n",
              "   PerformanceRating  RelationshipSatisfaction  StockOptionLevel  \\\n",
              "0                  3                         1                 0   \n",
              "1                  4                         4                 1   \n",
              "2                  3                         2                 0   \n",
              "3                  3                         3                 0   \n",
              "4                  3                         4                 1   \n",
              "\n",
              "   TotalWorkingYears  TrainingTimesLastYear  WorkLifeBalance  YearsAtCompany  \\\n",
              "0                  8                      0                1               6   \n",
              "1                 10                      3                3              10   \n",
              "2                  7                      3                3               0   \n",
              "3                  8                      3                3               8   \n",
              "4                  6                      3                3               2   \n",
              "\n",
              "   YearsInCurrentRole  YearsSinceLastPromotion  YearsWithCurrManager  \n",
              "0                   4                        0                     5  \n",
              "1                   7                        1                     7  \n",
              "2                   0                        0                     0  \n",
              "3                   7                        3                     0  \n",
              "4                   2                        2                     2  \n",
              "\n",
              "[5 rows x 31 columns]"
            ],
            "text/html": [
              "\n",
              "  <div id=\"df-32a88de5-6e39-46cb-9f38-0a60ff80b667\">\n",
              "    <div class=\"colab-df-container\">\n",
              "      <div>\n",
              "<style scoped>\n",
              "    .dataframe tbody tr th:only-of-type {\n",
              "        vertical-align: middle;\n",
              "    }\n",
              "\n",
              "    .dataframe tbody tr th {\n",
              "        vertical-align: top;\n",
              "    }\n",
              "\n",
              "    .dataframe thead th {\n",
              "        text-align: right;\n",
              "    }\n",
              "</style>\n",
              "<table border=\"1\" class=\"dataframe\">\n",
              "  <thead>\n",
              "    <tr style=\"text-align: right;\">\n",
              "      <th></th>\n",
              "      <th>Age</th>\n",
              "      <th>Attrition</th>\n",
              "      <th>BusinessTravel</th>\n",
              "      <th>DailyRate</th>\n",
              "      <th>Department</th>\n",
              "      <th>DistanceFromHome</th>\n",
              "      <th>Education</th>\n",
              "      <th>EducationField</th>\n",
              "      <th>EnvironmentSatisfaction</th>\n",
              "      <th>Gender</th>\n",
              "      <th>...</th>\n",
              "      <th>PerformanceRating</th>\n",
              "      <th>RelationshipSatisfaction</th>\n",
              "      <th>StockOptionLevel</th>\n",
              "      <th>TotalWorkingYears</th>\n",
              "      <th>TrainingTimesLastYear</th>\n",
              "      <th>WorkLifeBalance</th>\n",
              "      <th>YearsAtCompany</th>\n",
              "      <th>YearsInCurrentRole</th>\n",
              "      <th>YearsSinceLastPromotion</th>\n",
              "      <th>YearsWithCurrManager</th>\n",
              "    </tr>\n",
              "  </thead>\n",
              "  <tbody>\n",
              "    <tr>\n",
              "      <th>0</th>\n",
              "      <td>41</td>\n",
              "      <td>Yes</td>\n",
              "      <td>1</td>\n",
              "      <td>1102</td>\n",
              "      <td>2</td>\n",
              "      <td>1</td>\n",
              "      <td>2</td>\n",
              "      <td>1</td>\n",
              "      <td>2</td>\n",
              "      <td>0</td>\n",
              "      <td>...</td>\n",
              "      <td>3</td>\n",
              "      <td>1</td>\n",
              "      <td>0</td>\n",
              "      <td>8</td>\n",
              "      <td>0</td>\n",
              "      <td>1</td>\n",
              "      <td>6</td>\n",
              "      <td>4</td>\n",
              "      <td>0</td>\n",
              "      <td>5</td>\n",
              "    </tr>\n",
              "    <tr>\n",
              "      <th>1</th>\n",
              "      <td>49</td>\n",
              "      <td>No</td>\n",
              "      <td>2</td>\n",
              "      <td>279</td>\n",
              "      <td>1</td>\n",
              "      <td>8</td>\n",
              "      <td>1</td>\n",
              "      <td>1</td>\n",
              "      <td>3</td>\n",
              "      <td>1</td>\n",
              "      <td>...</td>\n",
              "      <td>4</td>\n",
              "      <td>4</td>\n",
              "      <td>1</td>\n",
              "      <td>10</td>\n",
              "      <td>3</td>\n",
              "      <td>3</td>\n",
              "      <td>10</td>\n",
              "      <td>7</td>\n",
              "      <td>1</td>\n",
              "      <td>7</td>\n",
              "    </tr>\n",
              "    <tr>\n",
              "      <th>2</th>\n",
              "      <td>37</td>\n",
              "      <td>Yes</td>\n",
              "      <td>1</td>\n",
              "      <td>1373</td>\n",
              "      <td>1</td>\n",
              "      <td>2</td>\n",
              "      <td>2</td>\n",
              "      <td>4</td>\n",
              "      <td>4</td>\n",
              "      <td>1</td>\n",
              "      <td>...</td>\n",
              "      <td>3</td>\n",
              "      <td>2</td>\n",
              "      <td>0</td>\n",
              "      <td>7</td>\n",
              "      <td>3</td>\n",
              "      <td>3</td>\n",
              "      <td>0</td>\n",
              "      <td>0</td>\n",
              "      <td>0</td>\n",
              "      <td>0</td>\n",
              "    </tr>\n",
              "    <tr>\n",
              "      <th>3</th>\n",
              "      <td>33</td>\n",
              "      <td>No</td>\n",
              "      <td>2</td>\n",
              "      <td>1392</td>\n",
              "      <td>1</td>\n",
              "      <td>3</td>\n",
              "      <td>4</td>\n",
              "      <td>1</td>\n",
              "      <td>4</td>\n",
              "      <td>0</td>\n",
              "      <td>...</td>\n",
              "      <td>3</td>\n",
              "      <td>3</td>\n",
              "      <td>0</td>\n",
              "      <td>8</td>\n",
              "      <td>3</td>\n",
              "      <td>3</td>\n",
              "      <td>8</td>\n",
              "      <td>7</td>\n",
              "      <td>3</td>\n",
              "      <td>0</td>\n",
              "    </tr>\n",
              "    <tr>\n",
              "      <th>4</th>\n",
              "      <td>27</td>\n",
              "      <td>No</td>\n",
              "      <td>1</td>\n",
              "      <td>591</td>\n",
              "      <td>1</td>\n",
              "      <td>2</td>\n",
              "      <td>1</td>\n",
              "      <td>3</td>\n",
              "      <td>1</td>\n",
              "      <td>1</td>\n",
              "      <td>...</td>\n",
              "      <td>3</td>\n",
              "      <td>4</td>\n",
              "      <td>1</td>\n",
              "      <td>6</td>\n",
              "      <td>3</td>\n",
              "      <td>3</td>\n",
              "      <td>2</td>\n",
              "      <td>2</td>\n",
              "      <td>2</td>\n",
              "      <td>2</td>\n",
              "    </tr>\n",
              "  </tbody>\n",
              "</table>\n",
              "<p>5 rows × 31 columns</p>\n",
              "</div>\n",
              "      <button class=\"colab-df-convert\" onclick=\"convertToInteractive('df-32a88de5-6e39-46cb-9f38-0a60ff80b667')\"\n",
              "              title=\"Convert this dataframe to an interactive table.\"\n",
              "              style=\"display:none;\">\n",
              "        \n",
              "  <svg xmlns=\"http://www.w3.org/2000/svg\" height=\"24px\"viewBox=\"0 0 24 24\"\n",
              "       width=\"24px\">\n",
              "    <path d=\"M0 0h24v24H0V0z\" fill=\"none\"/>\n",
              "    <path d=\"M18.56 5.44l.94 2.06.94-2.06 2.06-.94-2.06-.94-.94-2.06-.94 2.06-2.06.94zm-11 1L8.5 8.5l.94-2.06 2.06-.94-2.06-.94L8.5 2.5l-.94 2.06-2.06.94zm10 10l.94 2.06.94-2.06 2.06-.94-2.06-.94-.94-2.06-.94 2.06-2.06.94z\"/><path d=\"M17.41 7.96l-1.37-1.37c-.4-.4-.92-.59-1.43-.59-.52 0-1.04.2-1.43.59L10.3 9.45l-7.72 7.72c-.78.78-.78 2.05 0 2.83L4 21.41c.39.39.9.59 1.41.59.51 0 1.02-.2 1.41-.59l7.78-7.78 2.81-2.81c.8-.78.8-2.07 0-2.86zM5.41 20L4 18.59l7.72-7.72 1.47 1.35L5.41 20z\"/>\n",
              "  </svg>\n",
              "      </button>\n",
              "      \n",
              "  <style>\n",
              "    .colab-df-container {\n",
              "      display:flex;\n",
              "      flex-wrap:wrap;\n",
              "      gap: 12px;\n",
              "    }\n",
              "\n",
              "    .colab-df-convert {\n",
              "      background-color: #E8F0FE;\n",
              "      border: none;\n",
              "      border-radius: 50%;\n",
              "      cursor: pointer;\n",
              "      display: none;\n",
              "      fill: #1967D2;\n",
              "      height: 32px;\n",
              "      padding: 0 0 0 0;\n",
              "      width: 32px;\n",
              "    }\n",
              "\n",
              "    .colab-df-convert:hover {\n",
              "      background-color: #E2EBFA;\n",
              "      box-shadow: 0px 1px 2px rgba(60, 64, 67, 0.3), 0px 1px 3px 1px rgba(60, 64, 67, 0.15);\n",
              "      fill: #174EA6;\n",
              "    }\n",
              "\n",
              "    [theme=dark] .colab-df-convert {\n",
              "      background-color: #3B4455;\n",
              "      fill: #D2E3FC;\n",
              "    }\n",
              "\n",
              "    [theme=dark] .colab-df-convert:hover {\n",
              "      background-color: #434B5C;\n",
              "      box-shadow: 0px 1px 3px 1px rgba(0, 0, 0, 0.15);\n",
              "      filter: drop-shadow(0px 1px 2px rgba(0, 0, 0, 0.3));\n",
              "      fill: #FFFFFF;\n",
              "    }\n",
              "  </style>\n",
              "\n",
              "      <script>\n",
              "        const buttonEl =\n",
              "          document.querySelector('#df-32a88de5-6e39-46cb-9f38-0a60ff80b667 button.colab-df-convert');\n",
              "        buttonEl.style.display =\n",
              "          google.colab.kernel.accessAllowed ? 'block' : 'none';\n",
              "\n",
              "        async function convertToInteractive(key) {\n",
              "          const element = document.querySelector('#df-32a88de5-6e39-46cb-9f38-0a60ff80b667');\n",
              "          const dataTable =\n",
              "            await google.colab.kernel.invokeFunction('convertToInteractive',\n",
              "                                                     [key], {});\n",
              "          if (!dataTable) return;\n",
              "\n",
              "          const docLinkHtml = 'Like what you see? Visit the ' +\n",
              "            '<a target=\"_blank\" href=https://colab.research.google.com/notebooks/data_table.ipynb>data table notebook</a>'\n",
              "            + ' to learn more about interactive tables.';\n",
              "          element.innerHTML = '';\n",
              "          dataTable['output_type'] = 'display_data';\n",
              "          await google.colab.output.renderOutput(dataTable, element);\n",
              "          const docLink = document.createElement('div');\n",
              "          docLink.innerHTML = docLinkHtml;\n",
              "          element.appendChild(docLink);\n",
              "        }\n",
              "      </script>\n",
              "    </div>\n",
              "  </div>\n",
              "  "
            ]
          },
          "metadata": {},
          "execution_count": 66
        }
      ]
    },
    {
      "cell_type": "code",
      "source": [
        "df['Attrition'].value_counts()"
      ],
      "metadata": {
        "colab": {
          "base_uri": "https://localhost:8080/"
        },
        "id": "UpXvj3oG_4MY",
        "outputId": "0cec5289-263f-4d04-e1b8-a0ecc0a3af1e"
      },
      "execution_count": null,
      "outputs": [
        {
          "output_type": "execute_result",
          "data": {
            "text/plain": [
              "No     1233\n",
              "Yes     237\n",
              "Name: Attrition, dtype: int64"
            ]
          },
          "metadata": {},
          "execution_count": 67
        }
      ]
    },
    {
      "cell_type": "markdown",
      "source": [
        "Most of the instances of our dataset are not willing to quit and don't suffer attrition, as you can see in the following plot:"
      ],
      "metadata": {
        "id": "NCk-9BGrMOEa"
      }
    },
    {
      "cell_type": "code",
      "source": [
        "sns.countplot(df['Attrition'])"
      ],
      "metadata": {
        "colab": {
          "base_uri": "https://localhost:8080/",
          "height": 353
        },
        "id": "oFYfHzY1AZYr",
        "outputId": "80f6f56a-0080-41e3-f42b-ed9547765093"
      },
      "execution_count": null,
      "outputs": [
        {
          "output_type": "stream",
          "name": "stderr",
          "text": [
            "/usr/local/lib/python3.8/dist-packages/seaborn/_decorators.py:36: FutureWarning: Pass the following variable as a keyword arg: x. From version 0.12, the only valid positional argument will be `data`, and passing other arguments without an explicit keyword will result in an error or misinterpretation.\n",
            "  warnings.warn(\n"
          ]
        },
        {
          "output_type": "execute_result",
          "data": {
            "text/plain": [
              "<matplotlib.axes._subplots.AxesSubplot at 0x7f3fef552f40>"
            ]
          },
          "metadata": {},
          "execution_count": 68
        },
        {
          "output_type": "display_data",
          "data": {
            "text/plain": [
              "<Figure size 432x288 with 1 Axes>"
            ],
            "image/png": "[encoded data removed]"
          },
          "metadata": {
            "needs_background": "light"
          }
        }
      ]
    },
    {
      "cell_type": "markdown",
      "source": [
        "##**Plots: attrition in the spotlight.**"
      ],
      "metadata": {
        "id": "crs3SWKAM67K"
      }
    },
    {
      "cell_type": "code",
      "source": [
        "sns.relplot(x='TotalWorkingYears', y='MonthlyIncome', hue = 'Attrition', data = df, height = 5, aspect = 3)"
      ],
      "metadata": {
        "colab": {
          "base_uri": "https://localhost:8080/",
          "height": 251
        },
        "id": "P4KccIx-NULa",
        "outputId": "7fa35689-2dbe-45f5-ee4e-174a27ff850d"
      },
      "execution_count": null,
      "outputs": [
        {
          "output_type": "execute_result",
          "data": {
            "text/plain": [
              "<seaborn.axisgrid.FacetGrid at 0x7f3fef532ee0>"
            ]
          },
          "metadata": {},
          "execution_count": 69
        },
        {
          "output_type": "display_data",
          "data": {
            "text/plain": [
              "<Figure size 1132x360 with 1 Axes>"
            ],
            "image/png": "[encoded data removed]"
          },
          "metadata": {
            "needs_background": "light"
          }
        }
      ]
    },
    {
      "cell_type": "markdown",
      "source": [
        "If we see this plot carefully we will discover that monthly income has a great impact in the attrition level, Even young workers that have just started their carreer suffer attrition when salariies are low.\n",
        "\n",
        "We can also see that Total working years are also important, many workers with great experience are feel attrited even if good salaries, while this does not happen normally with ambitious young workers."
      ],
      "metadata": {
        "id": "dzfS5-HNHiP0"
      }
    },
    {
      "cell_type": "code",
      "source": [
        "sns.relplot(x='JobSatisfaction', y='OverTime', hue = 'Attrition', kind ='line', data = df, height = 5, aspect = 3)"
      ],
      "metadata": {
        "colab": {
          "base_uri": "https://localhost:8080/",
          "height": 250
        },
        "id": "oBZX9mPzNWjI",
        "outputId": "60147c68-758b-4b27-8cfc-60aff31f9408"
      },
      "execution_count": null,
      "outputs": [
        {
          "output_type": "execute_result",
          "data": {
            "text/plain": [
              "<seaborn.axisgrid.FacetGrid at 0x7f3fef1deb80>"
            ]
          },
          "metadata": {},
          "execution_count": 70
        },
        {
          "output_type": "display_data",
          "data": {
            "text/plain": [
              "<Figure size 1132x360 with 1 Axes>"
            ],
            "image/png": "[encoded data removed]"
          },
          "metadata": {
            "needs_background": "light"
          }
        }
      ]
    },
    {
      "cell_type": "markdown",
      "source": [
        "In ths plot we can see a very interresting phenomenon. It seems that attrited workers are the ones with more extra hours. On the other hand workers that are happy with their job tend to have less extra hours. Even though we can see a peak on Job satisfaction of not attrited workers when they do OverTime, maybe due to the acomplishment of new projects in a shorter time. "
      ],
      "metadata": {
        "id": "8kAS9KPkI1f5"
      }
    },
    {
      "cell_type": "code",
      "source": [
        "sns.relplot(x='JobSatisfaction', y='DistanceFromHome', hue = 'Attrition', kind='line', data = df, height = 5, aspect = 3)"
      ],
      "metadata": {
        "colab": {
          "base_uri": "https://localhost:8080/",
          "height": 250
        },
        "id": "mMDtCixxBGOZ",
        "outputId": "8415f551-cfa1-44cd-a604-9417f98b3f94"
      },
      "execution_count": null,
      "outputs": [
        {
          "output_type": "execute_result",
          "data": {
            "text/plain": [
              "<seaborn.axisgrid.FacetGrid at 0x7f3fef12e070>"
            ]
          },
          "metadata": {},
          "execution_count": 71
        },
        {
          "output_type": "display_data",
          "data": {
            "text/plain": [
              "<Figure size 1132x360 with 1 Axes>"
            ],
            "image/png": "[encoded data removed]"
          },
          "metadata": {
            "needs_background": "light"
          }
        }
      ]
    },
    {
      "cell_type": "markdown",
      "source": [
        "As we can observe in this graphic, the bigger the distance from home is, the more workers suffer attrition, and the lower their job satisfaction is. Actually we all know that commuting is not a funny activity, even less if that Overtime is not included in your income."
      ],
      "metadata": {
        "id": "wp8x2LZpK7GL"
      }
    },
    {
      "cell_type": "markdown",
      "source": [
        "##**Model building**"
      ],
      "metadata": {
        "id": "0s9hyVrTNNVr"
      }
    },
    {
      "cell_type": "markdown",
      "source": [
        "We will start stating which will be our target "
      ],
      "metadata": {
        "id": "K600R3o5NfMV"
      }
    },
    {
      "cell_type": "code",
      "source": [
        "X = df.drop('Attrition', axis = 1)\n",
        "y = df['Attrition']"
      ],
      "metadata": {
        "id": "5omTddH8NRpE"
      },
      "execution_count": null,
      "outputs": []
    },
    {
      "cell_type": "markdown",
      "source": [
        "Let's split the data to train and test our model"
      ],
      "metadata": {
        "id": "1NEu9rW5as7F"
      }
    },
    {
      "cell_type": "code",
      "source": [
        "X_train , X_test , y_train , y_test = train_test_split(X, y, test_size = 0.2, random_state = 42 ) "
      ],
      "metadata": {
        "id": "y55k9VOjZkYL"
      },
      "execution_count": null,
      "outputs": []
    },
    {
      "cell_type": "markdown",
      "source": [
        "First of all we'll standarize our data, using the z score standarization:\n",
        "\n",
        " ![image.png](data:image/png;base64,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)\n",
        "\n",
        "We need standarization because  the data obtained may contain features of various dimensions and scales altogether. Different scales of the data features affect the modeling of a dataset adversely. This fact will lead to biased outcomes when we make predictions. Thus, We should always scale the data prior to modeling."
      ],
      "metadata": {
        "id": "5o63JaVrm_LI"
      }
    },
    {
      "cell_type": "code",
      "source": [
        "std = StandardScaler()\n",
        "X_train = std.fit_transform(X_train)\n",
        "X_test = std.fit_transform(X_test)"
      ],
      "metadata": {
        "id": "FbCidSOiNQTu"
      },
      "execution_count": null,
      "outputs": []
    },
    {
      "cell_type": "markdown",
      "source": [
        "\n",
        "\n",
        "We chose to do the SVM with a linear kernel as it worked the best for us in previous tests, where we also checked rbf and polynomial kernels. \n",
        "\n",
        "First want to find the best parameters for the SVM, using the [GridSearchCV](https://scikit-learn.org/stable/modules/generated/sklearn.model_selection.GridSearchCV.html)  parameter estimator:"
      ],
      "metadata": {
        "id": "18xd0d_IoRXy"
      }
    },
    {
      "cell_type": "code",
      "source": [
        "parameters = {'C':[0.1, 1, 10], \"gamma\":[0.001, 0.01, 0.1, 1, 10, 100]} # Checking some possible values for the C and parameters\n",
        "clf = svm.SVC(kernel='linear') # Linear kernel\n",
        "grid = GridSearchCV(clf, parameters, verbose = 10)\n",
        "grid.fit(X_train, y_train)\n",
        "\n",
        "print(\"The best parameters are {} with a score of {:0.3f}\".format(grid.best_params_, grid.best_score_))"
      ],
      "metadata": {
        "id": "tipL2td5zOoq",
        "colab": {
          "base_uri": "https://localhost:8080/"
        },
        "outputId": "72b1f8e9-6a68-4625-85fe-4f6947b175d9"
      },
      "execution_count": null,
      "outputs": [
        {
          "output_type": "stream",
          "name": "stdout",
          "text": [
            "Fitting 5 folds for each of 18 candidates, totalling 90 fits\n",
            "[CV 1/5; 1/18] START C=0.1, gamma=0.001.........................................\n",
            "[CV 1/5; 1/18] END ..........C=0.1, gamma=0.001;, score=0.856 total time=   0.0s\n",
            "[CV 2/5; 1/18] START C=0.1, gamma=0.001.........................................\n",
            "[CV 2/5; 1/18] END ..........C=0.1, gamma=0.001;, score=0.902 total time=   0.0s\n",
            "[CV 3/5; 1/18] START C=0.1, gamma=0.001.........................................\n",
            "[CV 3/5; 1/18] END ..........C=0.1, gamma=0.001;, score=0.851 total time=   0.0s\n",
            "[CV 4/5; 1/18] START C=0.1, gamma=0.001.........................................\n",
            "[CV 4/5; 1/18] END ..........C=0.1, gamma=0.001;, score=0.881 total time=   0.0s\n",
            "[CV 5/5; 1/18] START C=0.1, gamma=0.001.........................................\n",
            "[CV 5/5; 1/18] END ..........C=0.1, gamma=0.001;, score=0.860 total time=   0.0s\n",
            "[CV 1/5; 2/18] START C=0.1, gamma=0.01..........................................\n",
            "[CV 1/5; 2/18] END ...........C=0.1, gamma=0.01;, score=0.856 total time=   0.0s\n",
            "[CV 2/5; 2/18] START C=0.1, gamma=0.01..........................................\n",
            "[CV 2/5; 2/18] END ...........C=0.1, gamma=0.01;, score=0.902 total time=   0.0s\n",
            "[CV 3/5; 2/18] START C=0.1, gamma=0.01..........................................\n",
            "[CV 3/5; 2/18] END ...........C=0.1, gamma=0.01;, score=0.851 total time=   0.0s\n",
            "[CV 4/5; 2/18] START C=0.1, gamma=0.01..........................................\n",
            "[CV 4/5; 2/18] END ...........C=0.1, gamma=0.01;, score=0.881 total time=   0.0s\n",
            "[CV 5/5; 2/18] START C=0.1, gamma=0.01..........................................\n",
            "[CV 5/5; 2/18] END ...........C=0.1, gamma=0.01;, score=0.860 total time=   0.0s\n",
            "[CV 1/5; 3/18] START C=0.1, gamma=0.1...........................................\n",
            "[CV 1/5; 3/18] END ............C=0.1, gamma=0.1;, score=0.856 total time=   0.0s\n",
            "[CV 2/5; 3/18] START C=0.1, gamma=0.1...........................................\n",
            "[CV 2/5; 3/18] END ............C=0.1, gamma=0.1;, score=0.902 total time=   0.0s\n",
            "[CV 3/5; 3/18] START C=0.1, gamma=0.1...........................................\n",
            "[CV 3/5; 3/18] END ............C=0.1, gamma=0.1;, score=0.851 total time=   0.0s\n",
            "[CV 4/5; 3/18] START C=0.1, gamma=0.1...........................................\n",
            "[CV 4/5; 3/18] END ............C=0.1, gamma=0.1;, score=0.881 total time=   0.0s\n",
            "[CV 5/5; 3/18] START C=0.1, gamma=0.1...........................................\n",
            "[CV 5/5; 3/18] END ............C=0.1, gamma=0.1;, score=0.860 total time=   0.0s\n",
            "[CV 1/5; 4/18] START C=0.1, gamma=1.............................................\n",
            "[CV 1/5; 4/18] END ..............C=0.1, gamma=1;, score=0.856 total time=   0.0s\n",
            "[CV 2/5; 4/18] START C=0.1, gamma=1.............................................\n",
            "[CV 2/5; 4/18] END ..............C=0.1, gamma=1;, score=0.902 total time=   0.0s\n",
            "[CV 3/5; 4/18] START C=0.1, gamma=1.............................................\n",
            "[CV 3/5; 4/18] END ..............C=0.1, gamma=1;, score=0.851 total time=   0.0s\n",
            "[CV 4/5; 4/18] START C=0.1, gamma=1.............................................\n",
            "[CV 4/5; 4/18] END ..............C=0.1, gamma=1;, score=0.881 total time=   0.0s\n",
            "[CV 5/5; 4/18] START C=0.1, gamma=1.............................................\n",
            "[CV 5/5; 4/18] END ..............C=0.1, gamma=1;, score=0.860 total time=   0.0s\n",
            "[CV 1/5; 5/18] START C=0.1, gamma=10............................................\n",
            "[CV 1/5; 5/18] END .............C=0.1, gamma=10;, score=0.856 total time=   0.0s\n",
            "[CV 2/5; 5/18] START C=0.1, gamma=10............................................\n",
            "[CV 2/5; 5/18] END .............C=0.1, gamma=10;, score=0.902 total time=   0.0s\n",
            "[CV 3/5; 5/18] START C=0.1, gamma=10............................................\n",
            "[CV 3/5; 5/18] END .............C=0.1, gamma=10;, score=0.851 total time=   0.0s\n",
            "[CV 4/5; 5/18] START C=0.1, gamma=10............................................\n",
            "[CV 4/5; 5/18] END .............C=0.1, gamma=10;, score=0.881 total time=   0.0s\n",
            "[CV 5/5; 5/18] START C=0.1, gamma=10............................................\n",
            "[CV 5/5; 5/18] END .............C=0.1, gamma=10;, score=0.860 total time=   0.0s\n",
            "[CV 1/5; 6/18] START C=0.1, gamma=100...........................................\n",
            "[CV 1/5; 6/18] END ............C=0.1, gamma=100;, score=0.856 total time=   0.0s\n",
            "[CV 2/5; 6/18] START C=0.1, gamma=100...........................................\n",
            "[CV 2/5; 6/18] END ............C=0.1, gamma=100;, score=0.902 total time=   0.0s\n",
            "[CV 3/5; 6/18] START C=0.1, gamma=100...........................................\n",
            "[CV 3/5; 6/18] END ............C=0.1, gamma=100;, score=0.851 total time=   0.0s\n",
            "[CV 4/5; 6/18] START C=0.1, gamma=100...........................................\n",
            "[CV 4/5; 6/18] END ............C=0.1, gamma=100;, score=0.881 total time=   0.0s\n",
            "[CV 5/5; 6/18] START C=0.1, gamma=100...........................................\n",
            "[CV 5/5; 6/18] END ............C=0.1, gamma=100;, score=0.860 total time=   0.0s\n",
            "[CV 1/5; 7/18] START C=1, gamma=0.001...........................................\n",
            "[CV 1/5; 7/18] END ............C=1, gamma=0.001;, score=0.864 total time=   0.1s\n",
            "[CV 2/5; 7/18] START C=1, gamma=0.001...........................................\n",
            "[CV 2/5; 7/18] END ............C=1, gamma=0.001;, score=0.898 total time=   0.1s\n",
            "[CV 3/5; 7/18] START C=1, gamma=0.001...........................................\n",
            "[CV 3/5; 7/18] END ............C=1, gamma=0.001;, score=0.860 total time=   0.1s\n",
            "[CV 4/5; 7/18] START C=1, gamma=0.001...........................................\n",
            "[CV 4/5; 7/18] END ............C=1, gamma=0.001;, score=0.877 total time=   0.1s\n",
            "[CV 5/5; 7/18] START C=1, gamma=0.001...........................................\n",
            "[CV 5/5; 7/18] END ............C=1, gamma=0.001;, score=0.851 total time=   0.1s\n",
            "[CV 1/5; 8/18] START C=1, gamma=0.01............................................\n",
            "[CV 1/5; 8/18] END .............C=1, gamma=0.01;, score=0.864 total time=   0.1s\n",
            "[CV 2/5; 8/18] START C=1, gamma=0.01............................................\n",
            "[CV 2/5; 8/18] END .............C=1, gamma=0.01;, score=0.898 total time=   0.1s\n",
            "[CV 3/5; 8/18] START C=1, gamma=0.01............................................\n",
            "[CV 3/5; 8/18] END .............C=1, gamma=0.01;, score=0.860 total time=   0.1s\n",
            "[CV 4/5; 8/18] START C=1, gamma=0.01............................................\n",
            "[CV 4/5; 8/18] END .............C=1, gamma=0.01;, score=0.877 total time=   0.1s\n",
            "[CV 5/5; 8/18] START C=1, gamma=0.01............................................\n",
            "[CV 5/5; 8/18] END .............C=1, gamma=0.01;, score=0.851 total time=   0.1s\n",
            "[CV 1/5; 9/18] START C=1, gamma=0.1.............................................\n",
            "[CV 1/5; 9/18] END ..............C=1, gamma=0.1;, score=0.864 total time=   0.1s\n",
            "[CV 2/5; 9/18] START C=1, gamma=0.1.............................................\n",
            "[CV 2/5; 9/18] END ..............C=1, gamma=0.1;, score=0.898 total time=   0.1s\n",
            "[CV 3/5; 9/18] START C=1, gamma=0.1.............................................\n",
            "[CV 3/5; 9/18] END ..............C=1, gamma=0.1;, score=0.860 total time=   0.1s\n",
            "[CV 4/5; 9/18] START C=1, gamma=0.1.............................................\n",
            "[CV 4/5; 9/18] END ..............C=1, gamma=0.1;, score=0.877 total time=   0.1s\n",
            "[CV 5/5; 9/18] START C=1, gamma=0.1.............................................\n",
            "[CV 5/5; 9/18] END ..............C=1, gamma=0.1;, score=0.851 total time=   0.1s\n",
            "[CV 1/5; 10/18] START C=1, gamma=1..............................................\n",
            "[CV 1/5; 10/18] END ...............C=1, gamma=1;, score=0.864 total time=   0.1s\n",
            "[CV 2/5; 10/18] START C=1, gamma=1..............................................\n",
            "[CV 2/5; 10/18] END ...............C=1, gamma=1;, score=0.898 total time=   0.1s\n",
            "[CV 3/5; 10/18] START C=1, gamma=1..............................................\n",
            "[CV 3/5; 10/18] END ...............C=1, gamma=1;, score=0.860 total time=   0.1s\n",
            "[CV 4/5; 10/18] START C=1, gamma=1..............................................\n",
            "[CV 4/5; 10/18] END ...............C=1, gamma=1;, score=0.877 total time=   0.1s\n",
            "[CV 5/5; 10/18] START C=1, gamma=1..............................................\n",
            "[CV 5/5; 10/18] END ...............C=1, gamma=1;, score=0.851 total time=   0.1s\n",
            "[CV 1/5; 11/18] START C=1, gamma=10.............................................\n",
            "[CV 1/5; 11/18] END ..............C=1, gamma=10;, score=0.864 total time=   0.1s\n",
            "[CV 2/5; 11/18] START C=1, gamma=10.............................................\n",
            "[CV 2/5; 11/18] END ..............C=1, gamma=10;, score=0.898 total time=   0.1s\n",
            "[CV 3/5; 11/18] START C=1, gamma=10.............................................\n",
            "[CV 3/5; 11/18] END ..............C=1, gamma=10;, score=0.860 total time=   0.1s\n",
            "[CV 4/5; 11/18] START C=1, gamma=10.............................................\n",
            "[CV 4/5; 11/18] END ..............C=1, gamma=10;, score=0.877 total time=   0.1s\n",
            "[CV 5/5; 11/18] START C=1, gamma=10.............................................\n",
            "[CV 5/5; 11/18] END ..............C=1, gamma=10;, score=0.851 total time=   0.1s\n",
            "[CV 1/5; 12/18] START C=1, gamma=100............................................\n",
            "[CV 1/5; 12/18] END .............C=1, gamma=100;, score=0.864 total time=   0.1s\n",
            "[CV 2/5; 12/18] START C=1, gamma=100............................................\n",
            "[CV 2/5; 12/18] END .............C=1, gamma=100;, score=0.898 total time=   0.1s\n",
            "[CV 3/5; 12/18] START C=1, gamma=100............................................\n",
            "[CV 3/5; 12/18] END .............C=1, gamma=100;, score=0.860 total time=   0.1s\n",
            "[CV 4/5; 12/18] START C=1, gamma=100............................................\n",
            "[CV 4/5; 12/18] END .............C=1, gamma=100;, score=0.877 total time=   0.1s\n",
            "[CV 5/5; 12/18] START C=1, gamma=100............................................\n",
            "[CV 5/5; 12/18] END .............C=1, gamma=100;, score=0.851 total time=   0.1s\n",
            "[CV 1/5; 13/18] START C=10, gamma=0.001.........................................\n",
            "[CV 1/5; 13/18] END ..........C=10, gamma=0.001;, score=0.860 total time=   0.4s\n",
            "[CV 2/5; 13/18] START C=10, gamma=0.001.........................................\n",
            "[CV 2/5; 13/18] END ..........C=10, gamma=0.001;, score=0.898 total time=   0.3s\n",
            "[CV 3/5; 13/18] START C=10, gamma=0.001.........................................\n",
            "[CV 3/5; 13/18] END ..........C=10, gamma=0.001;, score=0.851 total time=   0.3s\n",
            "[CV 4/5; 13/18] START C=10, gamma=0.001.........................................\n",
            "[CV 4/5; 13/18] END ..........C=10, gamma=0.001;, score=0.872 total time=   0.5s\n",
            "[CV 5/5; 13/18] START C=10, gamma=0.001.........................................\n",
            "[CV 5/5; 13/18] END ..........C=10, gamma=0.001;, score=0.847 total time=   0.3s\n",
            "[CV 1/5; 14/18] START C=10, gamma=0.01..........................................\n",
            "[CV 1/5; 14/18] END ...........C=10, gamma=0.01;, score=0.860 total time=   0.4s\n",
            "[CV 2/5; 14/18] START C=10, gamma=0.01..........................................\n",
            "[CV 2/5; 14/18] END ...........C=10, gamma=0.01;, score=0.898 total time=   0.3s\n",
            "[CV 3/5; 14/18] START C=10, gamma=0.01..........................................\n",
            "[CV 3/5; 14/18] END ...........C=10, gamma=0.01;, score=0.851 total time=   0.3s\n",
            "[CV 4/5; 14/18] START C=10, gamma=0.01..........................................\n",
            "[CV 4/5; 14/18] END ...........C=10, gamma=0.01;, score=0.872 total time=   0.5s\n",
            "[CV 5/5; 14/18] START C=10, gamma=0.01..........................................\n",
            "[CV 5/5; 14/18] END ...........C=10, gamma=0.01;, score=0.847 total time=   0.3s\n",
            "[CV 1/5; 15/18] START C=10, gamma=0.1...........................................\n",
            "[CV 1/5; 15/18] END ............C=10, gamma=0.1;, score=0.860 total time=   0.4s\n",
            "[CV 2/5; 15/18] START C=10, gamma=0.1...........................................\n",
            "[CV 2/5; 15/18] END ............C=10, gamma=0.1;, score=0.898 total time=   0.3s\n",
            "[CV 3/5; 15/18] START C=10, gamma=0.1...........................................\n",
            "[CV 3/5; 15/18] END ............C=10, gamma=0.1;, score=0.851 total time=   0.3s\n",
            "[CV 4/5; 15/18] START C=10, gamma=0.1...........................................\n",
            "[CV 4/5; 15/18] END ............C=10, gamma=0.1;, score=0.872 total time=   0.5s\n",
            "[CV 5/5; 15/18] START C=10, gamma=0.1...........................................\n",
            "[CV 5/5; 15/18] END ............C=10, gamma=0.1;, score=0.847 total time=   0.3s\n",
            "[CV 1/5; 16/18] START C=10, gamma=1.............................................\n",
            "[CV 1/5; 16/18] END ..............C=10, gamma=1;, score=0.860 total time=   0.4s\n",
            "[CV 2/5; 16/18] START C=10, gamma=1.............................................\n",
            "[CV 2/5; 16/18] END ..............C=10, gamma=1;, score=0.898 total time=   0.3s\n",
            "[CV 3/5; 16/18] START C=10, gamma=1.............................................\n",
            "[CV 3/5; 16/18] END ..............C=10, gamma=1;, score=0.851 total time=   0.3s\n",
            "[CV 4/5; 16/18] START C=10, gamma=1.............................................\n",
            "[CV 4/5; 16/18] END ..............C=10, gamma=1;, score=0.872 total time=   0.5s\n",
            "[CV 5/5; 16/18] START C=10, gamma=1.............................................\n",
            "[CV 5/5; 16/18] END ..............C=10, gamma=1;, score=0.847 total time=   0.3s\n",
            "[CV 1/5; 17/18] START C=10, gamma=10............................................\n",
            "[CV 1/5; 17/18] END .............C=10, gamma=10;, score=0.860 total time=   0.4s\n",
            "[CV 2/5; 17/18] START C=10, gamma=10............................................\n",
            "[CV 2/5; 17/18] END .............C=10, gamma=10;, score=0.898 total time=   0.3s\n",
            "[CV 3/5; 17/18] START C=10, gamma=10............................................\n",
            "[CV 3/5; 17/18] END .............C=10, gamma=10;, score=0.851 total time=   0.3s\n",
            "[CV 4/5; 17/18] START C=10, gamma=10............................................\n",
            "[CV 4/5; 17/18] END .............C=10, gamma=10;, score=0.872 total time=   0.4s\n",
            "[CV 5/5; 17/18] START C=10, gamma=10............................................\n",
            "[CV 5/5; 17/18] END .............C=10, gamma=10;, score=0.847 total time=   0.3s\n",
            "[CV 1/5; 18/18] START C=10, gamma=100...........................................\n",
            "[CV 1/5; 18/18] END ............C=10, gamma=100;, score=0.860 total time=   0.4s\n",
            "[CV 2/5; 18/18] START C=10, gamma=100...........................................\n",
            "[CV 2/5; 18/18] END ............C=10, gamma=100;, score=0.898 total time=   0.3s\n",
            "[CV 3/5; 18/18] START C=10, gamma=100...........................................\n",
            "[CV 3/5; 18/18] END ............C=10, gamma=100;, score=0.851 total time=   0.3s\n",
            "[CV 4/5; 18/18] START C=10, gamma=100...........................................\n",
            "[CV 4/5; 18/18] END ............C=10, gamma=100;, score=0.872 total time=   0.5s\n",
            "[CV 5/5; 18/18] START C=10, gamma=100...........................................\n",
            "[CV 5/5; 18/18] END ............C=10, gamma=100;, score=0.847 total time=   0.3s\n",
            "The best parameters are {'C': 0.1, 'gamma': 0.001} with a score of 0.870\n"
          ]
        }
      ]
    },
    {
      "cell_type": "markdown",
      "source": [
        "We find out that the best parameters are C = 0.1 and gamma = 0.001"
      ],
      "metadata": {
        "id": "pafhMJNk0XBa"
      }
    },
    {
      "cell_type": "markdown",
      "source": [
        "Now let's start building our Support vector classifier model with [sklearn's svm.SVC()](https://scikit-learn.org/stable/modules/svm.html) using the best parameters found:"
      ],
      "metadata": {
        "id": "h7YLxCkT09ax"
      }
    },
    {
      "cell_type": "code",
      "source": [
        "clf = svm.SVC(C = 0.1,  kernel= 'linear', gamma = 0.001)\n",
        "clf.fit(X_train, y_train)\n",
        "y_pred = clf.predict(X_test)"
      ],
      "metadata": {
        "id": "z9Rwm51sbECr"
      },
      "execution_count": null,
      "outputs": []
    },
    {
      "cell_type": "code",
      "source": [
        "print(classification_report(y_test, y_pred))"
      ],
      "metadata": {
        "colab": {
          "base_uri": "https://localhost:8080/"
        },
        "id": "npRHLzvabVKQ",
        "outputId": "cdff1471-e04e-4d97-eb64-652b26c02510"
      },
      "execution_count": null,
      "outputs": [
        {
          "output_type": "stream",
          "name": "stdout",
          "text": [
            "              precision    recall  f1-score   support\n",
            "\n",
            "          No       0.90      0.97      0.93       255\n",
            "         Yes       0.61      0.28      0.39        39\n",
            "\n",
            "    accuracy                           0.88       294\n",
            "   macro avg       0.75      0.63      0.66       294\n",
            "weighted avg       0.86      0.88      0.86       294\n",
            "\n"
          ]
        }
      ]
    },
    {
      "cell_type": "markdown",
      "source": [
        "The low results on the recall and f1 score of the Yes option are due to the quanntity of support vectors we do have for the 'Yes' option, nevertheless accuracy, as you can see, is nice."
      ],
      "metadata": {
        "id": "yPRpX-GOMlu8"
      }
    },
    {
      "cell_type": "code",
      "source": [
        "print(\"confusion matrix:\\n\",confusion_matrix(y_test, y_pred))"
      ],
      "metadata": {
        "colab": {
          "base_uri": "https://localhost:8080/"
        },
        "id": "tcY60R4cbnuo",
        "outputId": "8ac3451a-1131-45ce-fba6-0ba02132696d"
      },
      "execution_count": null,
      "outputs": [
        {
          "output_type": "stream",
          "name": "stdout",
          "text": [
            "confusion matrix:\n",
            " [[248   7]\n",
            " [ 28  11]]\n"
          ]
        }
      ]
    },
    {
      "cell_type": "code",
      "source": [
        "print('accuracy of our classifier:',accuracy_score(y_test, y_pred))"
      ],
      "metadata": {
        "colab": {
          "base_uri": "https://localhost:8080/"
        },
        "id": "rdtqXupccaud",
        "outputId": "7061e887-449f-4a8b-989b-a130e9b28498"
      },
      "execution_count": null,
      "outputs": [
        {
          "output_type": "stream",
          "name": "stdout",
          "text": [
            "accuracy of our classifier: 0.8809523809523809\n"
          ]
        }
      ]
    },
    {
      "cell_type": "markdown",
      "source": [
        "The accuracy is nice, the svm worked quite okay."
      ],
      "metadata": {
        "id": "4oYlyf6fPspQ"
      }
    },
    {
      "cell_type": "markdown",
      "source": [
        "##**Specific cases and examples**"
      ],
      "metadata": {
        "id": "wNvNe3jwNkVd"
      }
    },
    {
      "cell_type": "markdown",
      "source": [
        "We now will create persons with given characteristics and let's say if it suffers from attrition and will be willing to quit or not:"
      ],
      "metadata": {
        "id": "5S5iuYY7Sd9L"
      }
    },
    {
      "cell_type": "markdown",
      "source": [
        "Let's start with Dimos.\n",
        "\n",
        "We are wondering if Dimos will be suffering attrition and will be thinking about quiting, as we do now that he works so hard.\n",
        "\n",
        "In order to classify if he is or not in that situation, we will set its attributes and characteristics, subsequently will push the 'Dimos' datapoint into our Support Vector Machine classifier."
      ],
      "metadata": {
        "id": "VYjY4gcWopod"
      }
    },
    {
      "cell_type": "code",
      "source": [
        "Dimos = [[\n",
        "          30,         #0age\n",
        "          #           #attrition value to predict\n",
        "          3,          #1business travel\n",
        "          1020,       #2daily rate\n",
        "          2,          #3department\n",
        "          13,         #4distance from home\n",
        "          5,\t        #5eduction\n",
        "          5,\t        #6education field\n",
        "          4,\t        #7environment satisfaction\n",
        "          1,\t        #8gender\n",
        "          99,         #9Hourly rate\n",
        "          4,\t        #10job involvement\n",
        "          6,\t        #11job level\n",
        "          4,          #12job role\n",
        "          2,          #13job satisfaction\n",
        "          2,          #14marital status\n",
        "          19206,      #15 Monthly Income\n",
        "          16117,      #16monthly rate\n",
        "          2,          #17numcompanies worked\n",
        "          0,          #18over time\n",
        "          30,         #19percent salary hike\n",
        "          3,          #20performance rating\n",
        "          4,          #21relations satisfaction\n",
        "          0,          #22stock option levels\n",
        "          12,         #23total working years\n",
        "          5,          #24training times last years\n",
        "          3,          #25work life balance\n",
        "          10,         #26years at company\n",
        "          1,          #27years in current role\n",
        "          1,          #28years since last promotion\n",
        "          8]]         #29years with current manager\n",
        "Dimos = std.transform(Dimos)\n",
        "pred_Dimos = clf.predict(Dimos)"
      ],
      "metadata": {
        "colab": {
          "base_uri": "https://localhost:8080/"
        },
        "id": "o1IkH34tcli0",
        "outputId": "ba34c100-cc67-496d-e195-0b47c1fc7217"
      },
      "execution_count": null,
      "outputs": [
        {
          "output_type": "stream",
          "name": "stderr",
          "text": [
            "/usr/local/lib/python3.8/dist-packages/sklearn/base.py:450: UserWarning: X does not have valid feature names, but StandardScaler was fitted with feature names\n",
            "  warnings.warn(\n"
          ]
        }
      ]
    },
    {
      "cell_type": "code",
      "source": [
        "print('Will dimos suffer attrition? :',pred_Dimos)"
      ],
      "metadata": {
        "id": "f4tysMrqckaT",
        "colab": {
          "base_uri": "https://localhost:8080/"
        },
        "outputId": "b8909042-c845-4d42-d8bd-9399a5158ffa"
      },
      "execution_count": null,
      "outputs": [
        {
          "output_type": "stream",
          "name": "stdout",
          "text": [
            "Will dimos suffer attrition? : ['No']\n"
          ]
        }
      ]
    },
    {
      "cell_type": "markdown",
      "source": [
        "Let's create another instance: Ana\n",
        "\n",
        "We got the data of Ana from a company's dataset and we were horrified about her salary and some conditions, nonetheless, we might be biased so we decided to apply our algorithm to her case too, in order to see if she feels like that and she is willing to quit or not. \n",
        "\n",
        "So let's apply it:"
      ],
      "metadata": {
        "id": "SdECIaPNK_rc"
      }
    },
    {
      "cell_type": "code",
      "source": [
        "Ana = [[\n",
        "          57,         #0age\n",
        "          #           #attrition value to predict\n",
        "          1,          #1business travel\n",
        "          207,       #2daily rate\n",
        "          0,          #3department\n",
        "          9,         #4distance from home\n",
        "          1,\t        #5eduction\n",
        "          3,\t        #6education field\n",
        "          2,\t        #7environment satisfaction\n",
        "          0,\t        #8gender\n",
        "          23,         #9Hourly rate\n",
        "          2,\t        #10job involvement\n",
        "          1,\t        #11job level\n",
        "          1,          #12job role\n",
        "          1,          #13job satisfaction\n",
        "          0,          #14marital status\n",
        "          2700,      #15 Monthly Income\n",
        "          1611,      #16monthly rate\n",
        "          7,          #17numcompanies worked\n",
        "          4,          #18over time\n",
        "          -10,         #19percent salary hike\n",
        "          2,          #20performance rating\n",
        "          1,          #21relations satisfaction\n",
        "          0,          #22stock option levels\n",
        "          34,         #23total working years\n",
        "          0,          #24training times last years\n",
        "          1,          #25work life balance\n",
        "          9,         #26years at company\n",
        "          9,          #27years in current role\n",
        "          12,          #28years since last promotion\n",
        "          9]]         #29years with current manager\n",
        "\n",
        "Ana = std.transform(Ana)\n",
        "pred_Ana = clf.predict(Ana)\n"
      ],
      "metadata": {
        "colab": {
          "base_uri": "https://localhost:8080/"
        },
        "id": "wy8BiuNJmcB8",
        "outputId": "be539459-2926-4abd-d767-42d2a76a60ca"
      },
      "execution_count": null,
      "outputs": [
        {
          "output_type": "stream",
          "name": "stderr",
          "text": [
            "/usr/local/lib/python3.8/dist-packages/sklearn/base.py:450: UserWarning: X does not have valid feature names, but StandardScaler was fitted with feature names\n",
            "  warnings.warn(\n"
          ]
        }
      ]
    },
    {
      "cell_type": "code",
      "source": [
        "print('Will Ana suffer attrition? :',pred_Ana)"
      ],
      "metadata": {
        "colab": {
          "base_uri": "https://localhost:8080/"
        },
        "id": "BYg4VJGwmVbK",
        "outputId": "34632aab-f0a1-4ed1-adcb-a6f09c3cc80f"
      },
      "execution_count": null,
      "outputs": [
        {
          "output_type": "stream",
          "name": "stdout",
          "text": [
            "Will Ana suffer attrition? : ['Yes']\n"
          ]
        }
      ]
    },
    {
      "cell_type": "markdown",
      "source": [
        "The results of Ana's and Dimos' predictions are just a probability, even if our model has a high accuracy, it can fail and maybe Dimos is not as happy as he seems, or Ana s actually not willing to quit.\n",
        "\n",
        "Also take into account that the values were absolutely invented, Dimos is not real and Ana neither, we invented the value of their salaries, age, marital status, and every single value of each feature."
      ],
      "metadata": {
        "id": "5OXMjmpbLsAW"
      }
    }
  ]
}